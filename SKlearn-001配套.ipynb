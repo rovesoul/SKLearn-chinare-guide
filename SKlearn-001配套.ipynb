{
 "cells": [
  {
   "cell_type": "markdown",
   "metadata": {},
   "source": [
    "# 鸢尾花 分类"
   ]
  },
  {
   "cell_type": "code",
   "execution_count": 10,
   "metadata": {},
   "outputs": [
    {
     "name": "stdout",
     "output_type": "stream",
     "text": [
      "[0 0 0 0 0 0 0 0 0 0 0 0 0 0 0 0 0 0 0 0 0 0 0 0 0 0 0 0 0 0 0 0 0 0 0 0 0\n",
      " 0 0 0 0 0 0 0 0 0 0 0 0 0 1 1 1 1 1 1 1 1 1 1 1 1 1 1 1 1 1 1 1 1 1 1 1 1\n",
      " 1 1 1 1 1 1 1 1 1 1 1 1 1 1 1 1 1 1 1 1 1 1 1 1 1 1 2 2 2 2 2 2 2 2 2 2 2\n",
      " 2 2 2 2 2 2 2 2 2 2 2 2 2 2 2 2 2 2 2 2 2 2 2 2 2 2 2 2 2 2 2 2 2 2 2 2 2\n",
      " 2 2]\n",
      "-----\n",
      "[0 2 0 1 0 0 1 2 0 1 0 2 1 1 0 2 0 0 0 2 0 0 1 1 1 2 1 2 0 0 2 1 0 0 1 2 2\n",
      " 1 1 1 0 0 0 2 1 1 0 2 1 0 2 2 1 2 2 0 1 1 0 1 2 2 2 0 1 1 2 2 1 1 1 0 2 2\n",
      " 0 1 0 2 1 0 1 2 0 2 0 1 0 1 0 2 2 0 1 2 2 1 1 0 2 1 0 1 0 2 2]\n",
      "-----\n",
      "X_predict-----\n",
      " [1 1 2 0 1 2 1 1 0 0 0 0 2 1 0 1 2 2 2 0 1 2 1 0 2 2 1 2 0 0 0 0 2 0 2 2 2\n",
      " 1 1 0 2 2 2 1 1]\n",
      "y_test-----\n",
      "[1 1 2 0 1 2 1 1 0 0 0 0 2 1 0 1 2 2 2 0 1 1 1 0 2 2 1 2 0 0 0 0 2 0 2 2 2\n",
      " 1 1 0 2 2 2 2 1]\n",
      "[ 0  0  0  0  0  0  0  0  0  0  0  0  0  0  0  0  0  0  0  0  0  1  0  0\n",
      "  0  0  0  0  0  0  0  0  0  0  0  0  0  0  0  0  0  0  0 -1  0]\n"
     ]
    }
   ],
   "source": [
    "from __future__ import print_function\n",
    "from sklearn import datasets     #sklearn 自带的数据库\n",
    "from sklearn.model_selection import train_test_split   #\n",
    "from sklearn.neighbors import KNeighborsClassifier  # 选择临近相邻数据综合模拟数据预测\n",
    "\n",
    "iris = datasets.load_iris()  #加载数据集\n",
    "iris_X = iris.data   # 花的属性\n",
    "iris_y = iris.target # 花的分类\n",
    "\n",
    "# print(iris_X[:2, :])  # 打印两个sample看看几个属性\n",
    "print(iris_y)         # 看看有几类 0\\1\\2 三类\n",
    "print('-----')\n",
    "\n",
    "# 数据切割 : 属性切割两部分,两个变量承载 ; 分类切割为测试\\训练,两个变量承载\n",
    "X_train, X_test, y_train, y_test = train_test_split(\n",
    "    iris_X, iris_y, test_size=0.3)\n",
    "\n",
    "print(y_train)  # 打印出来可以看到,数据被打乱了\n",
    "print('-----')\n",
    "\n",
    "knn = KNeighborsClassifier()\n",
    "knn.fit(X_train, y_train)    # 自动完成train步骤\n",
    "print('X_predict-----\\n',knn.predict(X_test))   # 打印X_test的预测值\n",
    "print('y_test-----')\n",
    "print(y_test)\n",
    "print(knn.predict(X_test)- y_test)   # 可以看到两个不一样的"
   ]
  },
  {
   "cell_type": "markdown",
   "metadata": {},
   "source": [
    "# 波士顿房价案例 及 生成模拟数据"
   ]
  },
  {
   "cell_type": "code",
   "execution_count": 47,
   "metadata": {
    "scrolled": true
   },
   "outputs": [
    {
     "name": "stdout",
     "output_type": "stream",
     "text": [
      "(506, 13)\n",
      "(506,)\n",
      "[30.00384338 25.02556238 30.56759672 28.60703649]\n",
      "[24.  21.6 34.7 33.4]\n"
     ]
    },
    {
     "data": {
      "image/png": "[encoded data removed]",
      "text/plain": [
       "<Figure size 432x288 with 1 Axes>"
      ]
     },
     "metadata": {
      "needs_background": "light"
     },
     "output_type": "display_data"
    }
   ],
   "source": [
    "from __future__ import print_function\n",
    "from sklearn import datasets\n",
    "from sklearn.linear_model import LinearRegression\n",
    "import matplotlib.pyplot as plt\n",
    "\n",
    "loaded_data = datasets.load_boston()  # 波士顿房价\n",
    "data_X = loaded_data.data  # 大X\n",
    "data_y = loaded_data.target # 小y\n",
    "\n",
    "print(data_X.shape)\n",
    "print(data_y.shape)\n",
    "model = LinearRegression()  # 有默认参数\n",
    "model.fit(data_X, data_y)   # 这里是用model.fit来做的训练\n",
    "\n",
    "print(model.predict(data_X[:4, :]))\n",
    "print(data_y[:4])\n",
    "\n",
    "\n",
    "\n",
    "# 下边是用的make法,生成的模拟数据   下边数据可以改着试试\n",
    "X, y = datasets.make_regression(n_samples=100, n_features=1, n_targets=1, noise=5)\n",
    "plt.scatter(X, y,c='r')\n",
    "plt.show()b"
   ]
  },
  {
   "cell_type": "markdown",
   "metadata": {},
   "source": [
    "# sklearn model 的属性与功能"
   ]
  },
  {
   "cell_type": "code",
   "execution_count": 54,
   "metadata": {
    "scrolled": true
   },
   "outputs": [
    {
     "name": "stdout",
     "output_type": "stream",
     "text": [
      "(506, 13)\n",
      "(506,)\n",
      "model.coef_ : \n",
      " [-1.08011358e-01  4.64204584e-02  2.05586264e-02  2.68673382e+00\n",
      " -1.77666112e+01  3.80986521e+00  6.92224640e-04 -1.47556685e+00\n",
      "  3.06049479e-01 -1.23345939e-02 -9.52747232e-01  9.31168327e-03\n",
      " -5.24758378e-01]\n",
      "model.intercept_ : \n",
      " 36.459488385089855\n",
      "看看参数 :  {'copy_X': True, 'fit_intercept': True, 'n_jobs': None, 'normalize': False}\n",
      "精确度score :  0.7406426641094094\n"
     ]
    }
   ],
   "source": [
    "# 续上边\n",
    "from sklearn import datasets\n",
    "from sklearn.linear_model import LinearRegression\n",
    "import matplotlib.pyplot as plt\n",
    "\n",
    "loaded_data = datasets.load_boston()  # 波士顿房价\n",
    "data_X = loaded_data.data  # 大X\n",
    "data_y = loaded_data.target # 小y\n",
    "\n",
    "print(data_X.shape)\n",
    "print(data_y.shape)\n",
    "model = LinearRegression()  # 有默认参数\n",
    "model.fit(data_X, data_y)   # 这里是用model.fit来做的训练\n",
    "\n",
    "# model的属性\n",
    "print('model.coef_ : \\n',model.coef_)  #y=0.1x + 0.3  ,zhege coef_输出0.1\n",
    "print('model.intercept_ : \\n',model.intercept_) # imtercept 输出的就是 b\n",
    "print('看看参数 : ', model.get_params())  # 拿出之前定义的参数,看看用没用\n",
    "print('精确度score : ', model.score(data_X , data_y)) # R^2 打分 coefficient of determination"
   ]
  },
  {
   "cell_type": "markdown",
   "metadata": {},
   "source": [
    "# normalization 标准化"
   ]
  },
  {
   "cell_type": "code",
   "execution_count": 79,
   "metadata": {
    "scrolled": true
   },
   "outputs": [
    {
     "name": "stdout",
     "output_type": "stream",
     "text": [
      "[[  10.     2.7    3.6]\n",
      " [-100.     5.    -2. ]\n",
      " [ 120.    20.    40. ]]\n",
      "[[ 0.         -0.85170713 -0.55138018]\n",
      " [-1.22474487 -0.55187146 -0.852133  ]\n",
      " [ 1.22474487  1.40357859  1.40351318]]\n",
      "size shape:  600 (300, 2) 300 (300,)\n"
     ]
    },
    {
     "data": {
      "image/png": "[encoded data removed]",
      "text/plain": [
       "<Figure size 432x288 with 1 Axes>"
      ]
     },
     "metadata": {
      "needs_background": "light"
     },
     "output_type": "display_data"
    },
    {
     "name": "stdout",
     "output_type": "stream",
     "text": [
      "max , min:  359.71609977631795 -246.5720369220874\n",
      "正则化后 max ,min:  3.08466606215331 -3.345838948531592\n",
      "0.9444444444444444\n"
     ]
    },
    {
     "name": "stderr",
     "output_type": "stream",
     "text": [
      "/Users/donghuibiao/anaconda3/lib/python3.7/site-packages/sklearn/svm/base.py:193: FutureWarning: The default value of gamma will change from 'auto' to 'scale' in version 0.22 to account better for unscaled features. Set gamma explicitly to 'auto' or 'scale' to avoid this warning.\n",
      "  \"avoid this warning.\", FutureWarning)\n"
     ]
    }
   ],
   "source": [
    "# 标准化数据模块\n",
    "from sklearn import preprocessing\n",
    "import numpy as np\n",
    "\n",
    "# 将资料分割成train与test的模块\n",
    "from sklearn.model_selection import train_test_split\n",
    "\n",
    "# 生成适合做classification资料的模块\n",
    "from sklearn.datasets.samples_generator import make_classification\n",
    "\n",
    "# Support Vector Machine中的Support Vector Classifier\n",
    "from sklearn.svm import SVC\n",
    "import matplotlib.pyplot as plt\n",
    "\n",
    "a = np.array([[10, 2.7, 3.6],\n",
    "                     [-100, 5, -2],\n",
    "                     [120, 20, 40]], dtype=np.float64)\n",
    "# 看看原数据:a   ; 正则化后:preprocessing.sacle(a)\n",
    "print(a)\n",
    "print(preprocessing.scale(a))\n",
    "\n",
    "#生成具有2种属性的300笔数据\n",
    "X, y = make_classification(n_samples=300, n_features=2 , n_redundant=0, n_informative=2,\n",
    "                           random_state=22, n_clusters_per_class=1, scale=100)\n",
    "\n",
    "print('size shape: ',X.size,X.shape,y.size,y.shape)\n",
    "# 数据可视化 ,看看数据结构\n",
    "plt.scatter(X[:, 0], X[:, 1], c=y)\n",
    "plt.show()\n",
    "print('max , min: ',X.max(),X.min())\n",
    "\n",
    "# normalization step 正则化过程\n",
    "X = preprocessing.scale(X) \n",
    "\n",
    "# 分训练集\\测试集\n",
    "X_train, X_test, y_train, y_test = train_test_split(X, y, test_size=0.3)\n",
    "print('正则化后 max ,min: ',X_train.max(),X_test.min())\n",
    "\n",
    "# SVC==>Support Vector Classifier\n",
    "clf = SVC()\n",
    "clf.fit(X_train, y_train)\n",
    "\n",
    "print(clf.score(X_test, y_test))  #0.95的精确度\n"
   ]
  },
  {
   "cell_type": "markdown",
   "metadata": {},
   "source": [
    "# 交叉验证1"
   ]
  },
  {
   "cell_type": "code",
   "execution_count": 89,
   "metadata": {},
   "outputs": [
    {
     "name": "stdout",
     "output_type": "stream",
     "text": [
      "预测正确率得分:  0.9736842105263158\n"
     ]
    }
   ],
   "source": [
    "from __future__ import print_function\n",
    "from sklearn.datasets import load_iris\n",
    "from sklearn.model_selection import train_test_split\n",
    "from sklearn.neighbors import KNeighborsClassifier\n",
    "\n",
    "# 版本修改  from sklearn.cross_validation import\n",
    "# 全部改为  from sklearn.model_selection import\n",
    "\n",
    "# 加载iris数据集\n",
    "iris = load_iris()\n",
    "X = iris.data\n",
    "y = iris.target\n",
    "\n",
    "# 分割数据\n",
    "X_train, X_test, y_train, y_test = train_test_split(X, y, random_state=4)\n",
    "\n",
    "# 建立模型  考虑附近5个neighbors\n",
    "knn = KNeighborsClassifier(n_neighbors=5)\n",
    "# 训练模型\n",
    "knn.fit(X_train, y_train)\n",
    "# y_pred = knn.predict(X_test)\n",
    "print('预测正确率得分: ',knn.score(X_test, y_test))\n"
   ]
  },
  {
   "cell_type": "code",
   "execution_count": 91,
   "metadata": {
    "scrolled": true
   },
   "outputs": [
    {
     "name": "stdout",
     "output_type": "stream",
     "text": [
      "[0.96666667 1.         0.93333333 0.96666667 1.        ]\n",
      "0.9733333333333334\n"
     ]
    }
   ],
   "source": [
    "# K折交叉验证模块\n",
    "from sklearn.model_selection import cross_val_score\n",
    "\n",
    "# 使用K折交叉验证模块 ,这个knn 和之前的不同\n",
    "knn = KNeighborsClassifier(n_neighbors=5)\n",
    "# 分成5组算,再平均,accuracy:准确度得分方式\n",
    "scores = cross_val_score(knn, X, y, cv=5, scoring='accuracy')\n",
    "# 将5次的预测准确率打印出\n",
    "print(scores)\n",
    "print(scores.mean())\n"
   ]
  },
  {
   "cell_type": "code",
   "execution_count": 102,
   "metadata": {},
   "outputs": [
    {
     "data": {
      "image/png": "[encoded data removed]",
      "text/plain": [
       "<Figure size 432x288 with 1 Axes>"
      ]
     },
     "metadata": {
      "needs_background": "light"
     },
     "output_type": "display_data"
    }
   ],
   "source": [
    "# 入额和选择参数\n",
    "# this is how to use cross_val_score to choose model and configs #\n",
    "# from sklearn.cross_validation import cross_val_score  # 老版本\n",
    "# 以准确率(accuracy)判断\n",
    "from sklearn.model_selection import cross_val_score\n",
    "import matplotlib.pyplot as plt\n",
    "\n",
    "# #建立测试参数集 ,想1-31 每个都看一下测试结果\n",
    "k_range = range(1, 31)\n",
    "k_scores = []\n",
    "\n",
    "\n",
    "# 藉由迭代的方式来计算不同参数对模型的影响，并返回交叉验证后的平均准确率\n",
    "for k in k_range:\n",
    "    knn = KNeighborsClassifier(n_neighbors=k)\n",
    "#     loss = - cross_val_score(knn, X, y, cv=10, scoring='mean_squared_error')  # 线性回归用比较好for regression\n",
    "    #     cv=10 分为了10个set\n",
    "    scores = cross_val_score(knn, X, y, cv=10, scoring='accuracy') # for classification\n",
    "    k_scores.append(scores.mean() ) #他这里用的平均\n",
    "    \n",
    "# 可视化\n",
    "plt.plot(k_range, k_scores)\n",
    "plt.xlabel('Value of K for KNN')\n",
    "plt.ylabel('Cross-Validated Accuracy')\n",
    "plt.show()\n",
    "\n",
    "\n",
    "# 看图,后续降低是因为循环里12次以后到31次之间的k影响.太多了不好"
   ]
  },
  {
   "cell_type": "markdown",
   "metadata": {},
   "source": [
    "# 交叉验证2"
   ]
  },
  {
   "cell_type": "code",
   "execution_count": 132,
   "metadata": {
    "scrolled": true
   },
   "outputs": [
    {
     "data": {
      "image/png": "[encoded data removed]",
      "text/plain": [
       "<Figure size 432x288 with 1 Axes>"
      ]
     },
     "metadata": {
      "needs_background": "light"
     },
     "output_type": "display_data"
    }
   ],
   "source": [
    "\"\"\"\n",
    "skkk.__version__  # '0.21.3'\n",
    "\n",
    "\"\"\"\n",
    "from __future__ import print_function\n",
    "from sklearn.model_selection import learning_curve\n",
    "from sklearn.datasets import load_digits\n",
    "from sklearn.svm import SVC\n",
    "import matplotlib.pyplot as plt\n",
    "import numpy as np\n",
    "\n",
    "\n",
    "digits = load_digits()\n",
    "X = digits.data\n",
    "y = digits.target\n",
    "# print(X.shape)\n",
    "# print(y.size)\n",
    "#平均每一轮所得到的平均方差(共5轮，分别为样本10%、25%、50%、75%、100%)\n",
    "train_sizes, train_loss, test_loss= learning_curve(SVC(gamma=0.001), X, y, cv=10, scoring='neg_mean_squared_error',train_sizes=[0.1, 0.25, 0.5, 0.75, 1])\n",
    "train_loss_mean = -np.mean(train_loss, axis=1)\n",
    "test_loss_mean = -np.mean(test_loss, axis=1)\n",
    "\n",
    "plt.plot(train_sizes, train_loss_mean, 'o-', color=\"r\", label=\"Training\")\n",
    "plt.plot(train_sizes, test_loss_mean, 'o-', color=\"g\", label=\"Cross-validation\")\n",
    "plt.xlabel(\"Training examples\")\n",
    "plt.ylabel(\"Loss\")\n",
    "plt.legend(loc=\"best\")\n",
    "plt.show()\n"
   ]
  },
  {
   "cell_type": "markdown",
   "metadata": {},
   "source": [
    "# 交叉验证3"
   ]
  },
  {
   "cell_type": "code",
   "execution_count": 138,
   "metadata": {},
   "outputs": [
    {
     "data": {
      "image/png": "[encoded data removed]",
      "text/plain": [
       "<Figure size 432x288 with 1 Axes>"
      ]
     },
     "metadata": {
      "needs_background": "light"
     },
     "output_type": "display_data"
    }
   ],
   "source": [
    "from __future__ import print_function\n",
    "from sklearn.model_selection import  validation_curve\n",
    "from sklearn.datasets import load_digits\n",
    "from sklearn.svm import SVC\n",
    "import matplotlib.pyplot as plt\n",
    "import numpy as np\n",
    "\n",
    "#digits数据集\n",
    "digits = load_digits()\n",
    "X = digits.data\n",
    "y = digits.target\n",
    "\n",
    "#建立参数测试集 参数变动范围 -6到 -2.3 取5点\n",
    "param_range = np.logspace(-6, -2.3, 5)\n",
    "\n",
    "#使用validation_curve快速找出参数对模型的影响b\n",
    "train_loss, test_loss = validation_curve(\n",
    "        SVC(), X, y, param_name='gamma', param_range=param_range, cv=10,\n",
    "        scoring='neg_mean_squared_error')\n",
    "\n",
    "#平均每一轮的平均方差\n",
    "train_loss_mean = -np.mean(train_loss, axis=1)\n",
    "test_loss_mean = -np.mean(test_loss, axis=1)\n",
    "\n",
    "# 可视化\n",
    "plt.plot(param_range, train_loss_mean, 'o-', color=\"r\",\n",
    "             label=\"Training\")\n",
    "plt.plot(param_range, test_loss_mean, 'o-', color=\"g\",\n",
    "             label=\"Cross-validation\")\n",
    "\n",
    "plt.xlabel(\"gamma\")\n",
    "plt.ylabel(\"Loss\")\n",
    "plt.legend(loc=\"best\")\n",
    "plt.show()"
   ]
  },
  {
   "cell_type": "markdown",
   "metadata": {},
   "source": [
    "# 保存参数"
   ]
  },
  {
   "cell_type": "code",
   "execution_count": 150,
   "metadata": {},
   "outputs": [
    {
     "name": "stdout",
     "output_type": "stream",
     "text": [
      "[0]\n",
      "[0]\n"
     ]
    },
    {
     "name": "stderr",
     "output_type": "stream",
     "text": [
      "/Users/donghuibiao/anaconda3/lib/python3.7/site-packages/sklearn/svm/base.py:193: FutureWarning: The default value of gamma will change from 'auto' to 'scale' in version 0.22 to account better for unscaled features. Set gamma explicitly to 'auto' or 'scale' to avoid this warning.\n",
      "  \"avoid this warning.\", FutureWarning)\n"
     ]
    }
   ],
   "source": [
    "from sklearn import svm\n",
    "from sklearn import datasets\n",
    "\n",
    "clf = svm.SVC()\n",
    "iris = datasets.load_iris()\n",
    "X, y = iris.data, iris.target\n",
    "clf.fit(X, y)\n",
    "\n",
    "# method 1: pickle\n",
    "import pickle\n",
    "# save\n",
    "with open('pickle', 'wb') as f:\n",
    "    pickle.dump(clf, f)\n",
    "# restore\n",
    "with open('pickle', 'rb') as f:\n",
    "   clf2 = pickle.load(f)\n",
    "   print(clf2.predict(X[0:1]))\n",
    "\n",
    "# sklearn自己方法: joblib\n",
    "from sklearn.externals import joblib\n",
    "# Save\n",
    "joblib.dump(clf, 'clf.pkl')\n",
    "# restore\n",
    "clf3 = joblib.load('clf.pkl')\n",
    "print(clf3.predict(X[0:1]))"
   ]
  }
 ],
 "metadata": {
  "kernelspec": {
   "display_name": "Python 3",
   "language": "python",
   "name": "python3"
  },
  "language_info": {
   "codemirror_mode": {
    "name": "ipython",
    "version": 3
   },
   "file_extension": ".py",
   "mimetype": "text/x-python",
   "name": "python",
   "nbconvert_exporter": "python",
   "pygments_lexer": "ipython3",
   "version": "3.7.4"
  },
  "toc": {
   "base_numbering": 1,
   "nav_menu": {},
   "number_sections": true,
   "sideBar": true,
   "skip_h1_title": false,
   "title_cell": "Table of Contents",
   "title_sidebar": "Contents",
   "toc_cell": false,
   "toc_position": {},
   "toc_section_display": true,
   "toc_window_display": false
  }
 },
 "nbformat": 4,
 "nbformat_minor": 2
}
